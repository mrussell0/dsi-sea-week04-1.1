{
 "cells": [
  {
   "cell_type": "markdown",
   "metadata": {
    "button": false,
    "deletable": true,
    "new_sheet": false,
    "run_control": {
     "read_only": false
    }
   },
   "source": [
    "<img src=\"http://static.tvtropes.org/pmwiki/pub/images/acslatersitting_1267.jpg\" alt=\"Title\"/>"
   ]
  },
  {
   "cell_type": "markdown",
   "metadata": {
    "button": false,
    "deletable": true,
    "new_sheet": false,
    "run_control": {
     "read_only": false
    }
   },
   "source": [
    "# Hey there fellow student. Come closer. I want to jive with you for a second."
   ]
  },
  {
   "cell_type": "code",
   "execution_count": 1,
   "metadata": {
    "button": false,
    "collapsed": true,
    "deletable": true,
    "new_sheet": false,
    "run_control": {
     "read_only": false
    }
   },
   "outputs": [],
   "source": [
    "# Take a close look at this string!\n",
    "\n",
    "stringy = \"<div> Address: 1234 Fake Lane, FakeFake Faketown New Jersey, 90048 </div>\"\n",
    "\n",
    "# Wouldn't it be nice to easily find information in strings like this?"
   ]
  },
  {
   "cell_type": "markdown",
   "metadata": {
    "button": false,
    "deletable": true,
    "new_sheet": false,
    "run_control": {
     "read_only": false
    }
   },
   "source": [
    "## Well now you can! With regular expressions, you can quickly search through large amounts of data with a simple set of rules! Let's dig in! "
   ]
  },
  {
   "cell_type": "markdown",
   "metadata": {
    "button": false,
    "deletable": true,
    "new_sheet": false,
    "run_control": {
     "read_only": false
    }
   },
   "source": [
    "<img src=\"http://37.media.tumblr.com/tumblr_m8tx99Cu2x1rdutw3o1_500.gif\" alt=\"Title\" style=\"width: 250px\"/>"
   ]
  },
  {
   "cell_type": "code",
   "execution_count": 4,
   "metadata": {
    "button": false,
    "collapsed": false,
    "deletable": true,
    "new_sheet": false,
    "run_control": {
     "read_only": false
    }
   },
   "outputs": [
    {
     "name": "stdout",
     "output_type": "stream",
     "text": [
      "<\n"
     ]
    }
   ],
   "source": [
    "import re\n",
    "\n",
    "# The . matches any character except a newline (\\n)\n",
    "m = re.search('.', stringy)\n",
    "\n",
    "# m.group() contains an array of all of our matches. I wonder what this does...\n",
    "print m.group()"
   ]
  },
  {
   "cell_type": "code",
   "execution_count": 5,
   "metadata": {
    "button": false,
    "collapsed": false,
    "deletable": true,
    "new_sheet": false,
    "run_control": {
     "read_only": false
    }
   },
   "outputs": [
    {
     "name": "stdout",
     "output_type": "stream",
     "text": [
      "<di\n"
     ]
    }
   ],
   "source": [
    "# The ^ matches the start of a string\n",
    "m = re.search('^...', stringy)\n",
    "\n",
    "# Try to guess. What will this print?\n",
    "print m.group()"
   ]
  },
  {
   "cell_type": "code",
   "execution_count": 6,
   "metadata": {
    "button": false,
    "collapsed": false,
    "deletable": true,
    "new_sheet": false,
    "run_control": {
     "read_only": false
    }
   },
   "outputs": [
    {
     "name": "stdout",
     "output_type": "stream",
     "text": [
      "iv>\n"
     ]
    }
   ],
   "source": [
    "# Gnarly dude! You've got this down! Let's add some more!\n",
    "# The $ matches the end of a string\n",
    "m = re.search('...$', stringy)\n",
    "\n",
    "# Try to guess. What will this print?\n",
    "print m.group()"
   ]
  },
  {
   "cell_type": "code",
   "execution_count": 7,
   "metadata": {
    "button": false,
    "collapsed": false,
    "deletable": true,
    "new_sheet": false,
    "run_control": {
     "read_only": false
    }
   },
   "outputs": [
    {
     "name": "stdout",
     "output_type": "stream",
     "text": [
      "<div> Address: 1234 Fake Lane, FakeFake Faketown New Jersey, 90048 </div>\n"
     ]
    }
   ],
   "source": [
    "# The * matches 0 - many repetitions of a string\n",
    "m = re.search('<div>.*x*', stringy)\n",
    "\n",
    "# Try to guess. What will this print?\n",
    "print m.group()"
   ]
  },
  {
   "cell_type": "code",
   "execution_count": 9,
   "metadata": {
    "button": false,
    "collapsed": false,
    "deletable": true,
    "new_sheet": false,
    "run_control": {
     "read_only": false
    }
   },
   "outputs": [
    {
     "name": "stdout",
     "output_type": "stream",
     "text": [
      "<div> Address: 1234 Fake Lane, FakeFake Fake\n"
     ]
    }
   ],
   "source": [
    "# The + matches 1 - many repetitions of a string\n",
    "m = re.search('<div>.*Fake+', stringy)\n",
    "\n",
    "# Try to guess. What will this print?\n",
    "print m.group()"
   ]
  },
  {
   "cell_type": "code",
   "execution_count": 9,
   "metadata": {
    "button": false,
    "collapsed": false,
    "deletable": true,
    "new_sheet": false,
    "run_control": {
     "read_only": false
    }
   },
   "outputs": [],
   "source": [
    "# The ? matches 0 - 1 repetitions of a string\n",
    "m = re.search('.*Fake?', stringy)\n",
    "\n",
    "# Try to guess. What will this print?\n",
    "#print m.group()\n",
    "\n",
    "# If you combine it with the . and * rules, you can return the first instance of a pattern match\n",
    "m = re.search('(.*?)ke', stringy)\n",
    "\n",
    "# Try to guess. What will this print?\n",
    "#print m.group()"
   ]
  },
  {
   "cell_type": "code",
   "execution_count": 10,
   "metadata": {
    "button": false,
    "collapsed": false,
    "deletable": true,
    "new_sheet": false,
    "run_control": {
     "read_only": false
    }
   },
   "outputs": [],
   "source": [
    "# Use () to find whole words, phrases, or regexs\n",
    "m = re.search('(Fake)? Lane.*', stringy)\n",
    "\n",
    "# Try to guess. What will this print?\n",
    "#print m.group()"
   ]
  },
  {
   "cell_type": "code",
   "execution_count": 22,
   "metadata": {
    "button": false,
    "collapsed": false,
    "deletable": true,
    "new_sheet": false,
    "run_control": {
     "read_only": false
    }
   },
   "outputs": [
    {
     "name": "stdout",
     "output_type": "stream",
     "text": [
      "<div> Address: 1234 Fake Lane, FakeFake\n"
     ]
    }
   ],
   "source": [
    "# This regex: Fake{2,3} matches 2 to 3 copies of the preceding string\n",
    "m = re.search('.*(Fake){2,3}', stringy)\n",
    "\n",
    "# Try to guess. What will this print?\n",
    "print m.group()"
   ]
  },
  {
   "cell_type": "code",
   "execution_count": 10,
   "metadata": {
    "button": false,
    "collapsed": false,
    "deletable": true,
    "new_sheet": false,
    "run_control": {
     "read_only": false
    }
   },
   "outputs": [
    {
     "name": "stdout",
     "output_type": "stream",
     "text": [
      "<div> Address: 1234 Fake Lane, FakeFa\n"
     ]
    }
   ],
   "source": [
    "# Use [] to indicate a set of characters\n",
    "m = re.search('<div>.*?FakeF[a-z]?', stringy)\n",
    "\n",
    "# Try to guess. What will this print?\n",
    "print m.group()"
   ]
  },
  {
   "cell_type": "code",
   "execution_count": 12,
   "metadata": {
    "button": false,
    "collapsed": false,
    "deletable": true,
    "new_sheet": false,
    "run_control": {
     "read_only": false
    }
   },
   "outputs": [
    {
     "name": "stdout",
     "output_type": "stream",
     "text": [
      "FakeF\n",
      "<div> Address: 1234 Fake Lane, FakeFake Faket\n"
     ]
    }
   ],
   "source": [
    "# Use | to denote \"or\" expressions\n",
    "m = re.search('Fake[F|t]', stringy)\n",
    "\n",
    "# Try to guess. What will this print?\n",
    "print m.group()\n",
    "\n",
    "m = re.search('.*Fake[F|t]?', stringy)\n",
    "\n",
    "# Try to guess. What will this print?\n",
    "print m.group()"
   ]
  },
  {
   "cell_type": "code",
   "execution_count": 15,
   "metadata": {
    "button": false,
    "collapsed": false,
    "deletable": true,
    "new_sheet": false,
    "run_control": {
     "read_only": false
    }
   },
   "outputs": [],
   "source": [
    "# \\b: matches empty string at beginning or end of word\n",
    "m = re.search('..\\b*Fake\\b*..', stringy)\n",
    "\n",
    "# Try to guess. What will this print?\n",
    "#print m.group()"
   ]
  },
  {
   "cell_type": "code",
   "execution_count": 13,
   "metadata": {
    "button": false,
    "collapsed": false,
    "deletable": true,
    "new_sheet": false,
    "run_control": {
     "read_only": false
    }
   },
   "outputs": [
    {
     "name": "stdout",
     "output_type": "stream",
     "text": [
      "1234\n"
     ]
    }
   ],
   "source": [
    "# \\d: matches a digit character\n",
    "m = re.search('\\d+', stringy)\n",
    "\n",
    "# Try to guess. What will this print?\n",
    "print m.group()"
   ]
  },
  {
   "cell_type": "code",
   "execution_count": 14,
   "metadata": {
    "button": false,
    "collapsed": false,
    "deletable": true,
    "new_sheet": false,
    "run_control": {
     "read_only": false
    }
   },
   "outputs": [
    {
     "name": "stdout",
     "output_type": "stream",
     "text": [
      "<div> Address: \n"
     ]
    }
   ],
   "source": [
    "# \\d: matches a non-digit character\n",
    "m = re.search('\\D+', stringy)\n",
    "\n",
    "# Try to guess. What will this print?\n",
    "print m.group()"
   ]
  },
  {
   "cell_type": "code",
   "execution_count": 15,
   "metadata": {
    "button": false,
    "collapsed": false,
    "deletable": true,
    "new_sheet": false,
    "run_control": {
     "read_only": false
    }
   },
   "outputs": [
    {
     "name": "stdout",
     "output_type": "stream",
     "text": [
      "v> Ad\n"
     ]
    }
   ],
   "source": [
    "# \\s: matches any whitespace character\n",
    "m = re.search('..\\s+..', stringy)\n",
    "\n",
    "# Try to guess. What will this print?\n",
    "print m.group()"
   ]
  },
  {
   "cell_type": "code",
   "execution_count": 16,
   "metadata": {
    "button": false,
    "collapsed": false,
    "deletable": true,
    "new_sheet": false,
    "run_control": {
     "read_only": false
    }
   },
   "outputs": [
    {
     "name": "stdout",
     "output_type": "stream",
     "text": [
      "<div>\n"
     ]
    }
   ],
   "source": [
    "# \\S: matches any non-whitespace character\n",
    "m = re.search('\\S+', stringy)\n",
    "\n",
    "# Try to guess. What will this print?\n",
    "print m.group()"
   ]
  },
  {
   "cell_type": "code",
   "execution_count": 17,
   "metadata": {
    "button": false,
    "collapsed": false,
    "deletable": true,
    "new_sheet": false,
    "run_control": {
     "read_only": false
    }
   },
   "outputs": [
    {
     "name": "stdout",
     "output_type": "stream",
     "text": [
      "div\n"
     ]
    }
   ],
   "source": [
    "# \\w: matches any alphanumeric character\n",
    "m = re.search('\\w+', stringy)\n",
    "\n",
    "# Try to guess. What will this print?\n",
    "print m.group()"
   ]
  },
  {
   "cell_type": "code",
   "execution_count": 18,
   "metadata": {
    "button": false,
    "collapsed": false,
    "deletable": true,
    "new_sheet": false,
    "run_control": {
     "read_only": false
    }
   },
   "outputs": [
    {
     "name": "stdout",
     "output_type": "stream",
     "text": [
      "<\n"
     ]
    }
   ],
   "source": [
    "# \\W: matches any non-alphanumeric character\n",
    "m = re.search('\\W+', stringy)\n",
    "\n",
    "# Try to guess. What will this print?\n",
    "print m.group()"
   ]
  },
  {
   "cell_type": "code",
   "execution_count": 19,
   "metadata": {
    "button": false,
    "collapsed": false,
    "deletable": true,
    "new_sheet": false,
    "run_control": {
     "read_only": false
    }
   },
   "outputs": [
    {
     "name": "stdout",
     "output_type": "stream",
     "text": [
      "['FakeFake ', 'Faketown ']\n"
     ]
    }
   ],
   "source": [
    "# Use findall to return all results\n",
    "m = re.findall('Fake\\w+\\s?', stringy)\n",
    "\n",
    "# Try to guess. What will this print?\n",
    "print m"
   ]
  },
  {
   "cell_type": "markdown",
   "metadata": {
    "button": false,
    "deletable": true,
    "new_sheet": false,
    "run_control": {
     "read_only": false
    }
   },
   "source": [
    "<img src=\"http://31.media.tumblr.com/b495222ee1e2df2b1a478c2d5a58df5f/tumblr_mlfep4fByu1rd6wt2o1_500.gif\" alt=\"Title\" style=\"width: 250px\"/>"
   ]
  },
  {
   "cell_type": "markdown",
   "metadata": {
    "button": false,
    "deletable": true,
    "new_sheet": false,
    "run_control": {
     "read_only": false
    }
   },
   "source": [
    "### You're gnarly bro! Let's generate some data! Run the next cell."
   ]
  },
  {
   "cell_type": "code",
   "execution_count": 24,
   "metadata": {
    "button": false,
    "collapsed": false,
    "deletable": true,
    "new_sheet": false,
    "run_control": {
     "read_only": false
    }
   },
   "outputs": [
    {
     "name": "stdout",
     "output_type": "stream",
     "text": [
      "ketone disciplinary onset sole trafficker pipsissewa shrub oregano buck grocer shuck nation polymorp\n"
     ]
    }
   ],
   "source": [
    "import requests\n",
    "import random\n",
    "import numpy as np\n",
    "\n",
    "word_site = \"http://svnweb.freebsd.org/csrg/share/dict/words?view=co&content-type=text/plain\"\n",
    "\n",
    "response = requests.get(word_site)\n",
    "WORDS = response.content.splitlines()\n",
    "not_proper = [word for word in WORDS if not word[0].isupper()]\n",
    "\n",
    "class formWords:\n",
    "    def __init__(self, not_proper):\n",
    "        self.not_proper = not_proper\n",
    "\n",
    "    def randomNonProper(self):\n",
    "        return self.not_proper[np.random.randint(0,len(self.not_proper))]\n",
    "        \n",
    "    def generateText(self, blog_length):\n",
    "        blog = []\n",
    "        for x in range(blog_length):\n",
    "            blog += [self.randomNonProper()]\n",
    "    \n",
    "        return \" \".join(blog)\n",
    "\n",
    "words = formWords(not_proper)\n",
    "\n",
    "#This is the data variable\n",
    "data = words.generateText(500)\n",
    "print data[:100]"
   ]
  },
  {
   "cell_type": "markdown",
   "metadata": {
    "button": false,
    "deletable": true,
    "new_sheet": false,
    "run_control": {
     "read_only": false
    }
   },
   "source": [
    "### Good golly! That sure is alot of data. Hopefully regular expressions can help us through this jam..."
   ]
  },
  {
   "cell_type": "code",
   "execution_count": 26,
   "metadata": {
    "button": false,
    "collapsed": false,
    "deletable": true,
    "new_sheet": false,
    "run_control": {
     "read_only": false
    }
   },
   "outputs": [
    {
     "name": "stdout",
     "output_type": "stream",
     "text": [
      "['councilwoman', 'manual', 'bellman', 'cameraman', 'infantryman', 'manumitted', 'patrolman', 'caveman', 'businessman', 'permanent', 'doorman', 'congresswoman']\n"
     ]
    }
   ],
   "source": [
    "# Find all the words with 'man' in them\n",
    "m = re.findall('\\w*man\\w*', data)\n",
    "print m"
   ]
  },
  {
   "cell_type": "code",
   "execution_count": 28,
   "metadata": {
    "button": false,
    "collapsed": false,
    "deletable": true,
    "new_sheet": false,
    "run_control": {
     "read_only": false
    }
   },
   "outputs": [
    {
     "name": "stdout",
     "output_type": "stream",
     "text": [
      "['axiology', 'alkaline', 'autocracy', 'asynchrony', 'aviary', 'adore', 'ascent', 'amniotic', 'algebraic', 'arenaceous', 'animist', 'ashore', 'amnesiac', 'adorn', 'aseptic', 'acrophobic', 'ameliorate', 'accountant', 'alumnae', 'awaken', 'abc', 'askew', 'agent', 'ample', 'acidulate', 'aperiodic', 'asocial', 'accentuate', 'apache', 'alligator', 'appetite', 'allay', 'actinometer']\n"
     ]
    }
   ],
   "source": [
    "# Find all the words that begin with an 'a'\n",
    "m = re.findall('\\s+(a\\w*)', data)\n",
    "print m"
   ]
  },
  {
   "cell_type": "code",
   "execution_count": 39,
   "metadata": {
    "button": false,
    "collapsed": false,
    "deletable": true,
    "new_sheet": false,
    "run_control": {
     "read_only": false
    }
   },
   "outputs": [],
   "source": [
    "# Find all the words with an 'o' as the second letter\n",
    "m = re.findall('\\s(\\wo\\w*)', data)\n"
   ]
  },
  {
   "cell_type": "code",
   "execution_count": 44,
   "metadata": {
    "button": false,
    "collapsed": false,
    "deletable": true,
    "new_sheet": false,
    "run_control": {
     "read_only": false
    }
   },
   "outputs": [
    {
     "data": {
      "text/plain": [
       "['disciplinary',\n",
       " 'sole',\n",
       " 'pipsissewa',\n",
       " 'oregano',\n",
       " 'grocer',\n",
       " 'nation',\n",
       " 'papacy',\n",
       " 'squeegee',\n",
       " 'courthouse',\n",
       " 'morrow',\n",
       " 'demonic',\n",
       " 'nebulous',\n",
       " 'electroencephalogram',\n",
       " 'prostitute',\n",
       " 'derogatory',\n",
       " 'rangeland',\n",
       " 'axiology',\n",
       " 'republican',\n",
       " 'picture',\n",
       " 'complicate',\n",
       " 'baronet',\n",
       " 'alkaline',\n",
       " 'councilwoman',\n",
       " 'practitioner',\n",
       " 'echinoderm',\n",
       " 'hypotonic',\n",
       " 'autocracy',\n",
       " 'idiosyncratic',\n",
       " 'proverbial',\n",
       " 'quahog',\n",
       " 'spontaneous',\n",
       " 'spice',\n",
       " 'mnemonic',\n",
       " 'exogamous',\n",
       " 'inauthentic',\n",
       " 'dendritic',\n",
       " 'bookstore',\n",
       " 'mercantile',\n",
       " 'ingenious',\n",
       " 'kinesic',\n",
       " 'clever',\n",
       " 'frivolous',\n",
       " 'aviary',\n",
       " 'protactinium',\n",
       " 'brevet',\n",
       " 'adore',\n",
       " 'chlorine',\n",
       " 'waveform',\n",
       " 'pancreatic',\n",
       " 'coca',\n",
       " 'denizen',\n",
       " 'specimen',\n",
       " 'deprecatory',\n",
       " 'numerology',\n",
       " 'guano',\n",
       " 'eloquent',\n",
       " 'marsupial',\n",
       " 'indecision',\n",
       " 'amniotic',\n",
       " 'cockeye',\n",
       " 'exhibitor',\n",
       " 'quarry',\n",
       " 'decontrol',\n",
       " 'inseminate',\n",
       " 'leeward',\n",
       " 'homemade',\n",
       " 'immovable',\n",
       " 'barrette',\n",
       " 'algebraic',\n",
       " 'shitepoke',\n",
       " 'ruination',\n",
       " 'ceramium',\n",
       " 'citadel',\n",
       " 'arenaceous',\n",
       " 'omnipresent',\n",
       " 'hole',\n",
       " 'ergative',\n",
       " 'nanosecond',\n",
       " 'visa',\n",
       " 'contraband',\n",
       " 'ohmmeter',\n",
       " 'tautology',\n",
       " 'bedevil',\n",
       " 'vigil',\n",
       " 'tributary',\n",
       " 'sidelight',\n",
       " 'divestiture',\n",
       " 'recusant',\n",
       " 'blouse',\n",
       " 'animist',\n",
       " 'feasible',\n",
       " 'repel',\n",
       " 'calumniate',\n",
       " 'maharaja',\n",
       " 'ashore',\n",
       " 'museum',\n",
       " 'consular',\n",
       " 'optometrist',\n",
       " 'fantasia',\n",
       " 'sodium',\n",
       " 'nightmarish',\n",
       " 'slope',\n",
       " 'parenthesis',\n",
       " 'scripture',\n",
       " 'terror',\n",
       " 'cryptanalysis',\n",
       " 'amnesiac',\n",
       " 'theologian',\n",
       " 'porosity',\n",
       " 'obduracy',\n",
       " 'reprieve',\n",
       " 'coproduct',\n",
       " 'cameraman',\n",
       " 'inextricable',\n",
       " 'integrate',\n",
       " 'turbojet',\n",
       " 'procrustean',\n",
       " 'camelback',\n",
       " 'sanatorium',\n",
       " 'protege',\n",
       " 'complacent',\n",
       " 'participle',\n",
       " 'bungalow',\n",
       " 'basketry',\n",
       " 'vigorous',\n",
       " 'welfare',\n",
       " 'expletive',\n",
       " 'adorn',\n",
       " 'aseptic',\n",
       " 'receive',\n",
       " 'panicking',\n",
       " 'lipid',\n",
       " 'acrophobic',\n",
       " 'manumitted',\n",
       " 'graphite',\n",
       " 'cadent',\n",
       " 'basis',\n",
       " 'ameliorate',\n",
       " 'exact',\n",
       " 'electrician',\n",
       " 'immature',\n",
       " 'fermentation',\n",
       " 'resilient',\n",
       " 'steward',\n",
       " 'phosphorous',\n",
       " 'shareholder',\n",
       " 'bedazzle',\n",
       " 'disposal',\n",
       " 'tower',\n",
       " 'exterior',\n",
       " 'emperor',\n",
       " 'sweetish',\n",
       " 'legitimacy',\n",
       " 'vale',\n",
       " 'thrive',\n",
       " 'homologue',\n",
       " 'somal',\n",
       " 'linen',\n",
       " 'matroid',\n",
       " 'ignition',\n",
       " 'awaken',\n",
       " 'love',\n",
       " 'ruminate',\n",
       " 'herringbone',\n",
       " 'material',\n",
       " 'siltstone',\n",
       " 'canon',\n",
       " 'patrolman',\n",
       " 'mimetic',\n",
       " 'clientele',\n",
       " 'ecumenist',\n",
       " 'chromium',\n",
       " 'volcanism',\n",
       " 'stupefy',\n",
       " 'bookie',\n",
       " 'legume',\n",
       " 'moreover',\n",
       " 'syllabic',\n",
       " 'heptane',\n",
       " 'agent',\n",
       " 'flotilla',\n",
       " 'caveman',\n",
       " 'encephalitis',\n",
       " 'thereat',\n",
       " 'basilar',\n",
       " 'penitentiary',\n",
       " 'edematous',\n",
       " 'humorous',\n",
       " 'prevention',\n",
       " 'benediction',\n",
       " 'phenotype',\n",
       " 'citation',\n",
       " 'persecute',\n",
       " 'medium',\n",
       " 'inconvenient',\n",
       " 'voltage',\n",
       " 'octave',\n",
       " 'simplicial',\n",
       " 'decontrol',\n",
       " 'wapiti',\n",
       " 'briefcase',\n",
       " 'businessman',\n",
       " 'telescopic',\n",
       " 'acidulate',\n",
       " 'monopoly',\n",
       " 'sinewy',\n",
       " 'origami',\n",
       " 'volition',\n",
       " 'cremate',\n",
       " 'counterrevolutionary',\n",
       " 'imprison',\n",
       " 'spectacular',\n",
       " 'vase',\n",
       " 'niobium',\n",
       " 'guillemot',\n",
       " 'bloodline',\n",
       " 'bursitis',\n",
       " 'vicious',\n",
       " 'inattention',\n",
       " 'aperiodic',\n",
       " 'permanent',\n",
       " 'asocial',\n",
       " 'bribery',\n",
       " 'crewel',\n",
       " 'remonstrate',\n",
       " 'accentuate',\n",
       " 'apache',\n",
       " 'heredity',\n",
       " 'bedim',\n",
       " 'micrography',\n",
       " 'incomprehension',\n",
       " 'alligator',\n",
       " 'proteolysis',\n",
       " 'latex',\n",
       " 'ineducable',\n",
       " 'cadaver',\n",
       " 'resistible',\n",
       " 'precious',\n",
       " 'appetite',\n",
       " 'collateral',\n",
       " 'congresswoman',\n",
       " 'morel',\n",
       " 'prosecute',\n",
       " 'furniture',\n",
       " 'template',\n",
       " 'configure',\n",
       " 'portrayal',\n",
       " 'reave',\n",
       " 'conference',\n",
       " 'theorist',\n",
       " 'jaundice',\n",
       " 'petite',\n",
       " 'oligopoly',\n",
       " 'modesty',\n",
       " 'bubonic',\n",
       " 'xylene',\n",
       " 'domineer',\n",
       " 'actinometer']"
      ]
     },
     "execution_count": 44,
     "metadata": {},
     "output_type": "execute_result"
    }
   ],
   "source": [
    "# Find all the words with vowels surrounding one consonant\n",
    "m = re.findall('\\s(\\w*[aeiou][b-df-hj-np-tv-z][aeior]\\w*)', data)\n",
    "m"
   ]
  },
  {
   "cell_type": "code",
   "execution_count": 46,
   "metadata": {
    "button": false,
    "collapsed": false,
    "deletable": true,
    "new_sheet": false,
    "run_control": {
     "read_only": false
    }
   },
   "outputs": [
    {
     "data": {
      "text/plain": [
       "['disciplinary',\n",
       " 'onset',\n",
       " 'sole',\n",
       " 'trafficker',\n",
       " 'pipsissewa',\n",
       " 'shrub',\n",
       " 'oregano',\n",
       " 'buck',\n",
       " 'grocer',\n",
       " 'shuck',\n",
       " 'nation',\n",
       " 'polymorphic',\n",
       " 'sinter',\n",
       " 'papacy',\n",
       " 'squeegee',\n",
       " 'impetuous',\n",
       " 'courthouse',\n",
       " 'dour',\n",
       " 'candlestick',\n",
       " 'rabbi',\n",
       " 'deploy',\n",
       " 'hub',\n",
       " 'infra',\n",
       " 'morrow',\n",
       " 'ruffian',\n",
       " 'demonic',\n",
       " 'nebulous',\n",
       " 'butterfat',\n",
       " 'electroencephalogram',\n",
       " 'escarpment',\n",
       " 'prostitute',\n",
       " 'derogatory',\n",
       " 'dextrous',\n",
       " 'lengthen',\n",
       " 'rangeland',\n",
       " 'axiology',\n",
       " 'republican',\n",
       " 'gingham',\n",
       " 'hap',\n",
       " 'winnow',\n",
       " 'six',\n",
       " 'escrow',\n",
       " 'picture',\n",
       " 'complicate',\n",
       " 'baronet',\n",
       " 'tout',\n",
       " 'alkaline',\n",
       " 'sexy',\n",
       " 'chuck',\n",
       " 'fair',\n",
       " 'onward',\n",
       " 'councilwoman',\n",
       " 'tumultuous',\n",
       " 'practitioner',\n",
       " 'guignol',\n",
       " 'echinoderm',\n",
       " 'bladder',\n",
       " 'hypotonic',\n",
       " 'autocracy',\n",
       " 'idiosyncratic',\n",
       " 'proverbial',\n",
       " 'sheen',\n",
       " 'deerskin',\n",
       " 'quahog',\n",
       " 'spontaneous',\n",
       " 'foxhound',\n",
       " 'spice',\n",
       " 'coequal',\n",
       " 'chop',\n",
       " 'circumvent',\n",
       " 'mnemonic',\n",
       " 'guy',\n",
       " 'exogamous',\n",
       " 'inauthentic',\n",
       " 'asynchrony',\n",
       " 'dendritic',\n",
       " 'cow',\n",
       " 'bookstore',\n",
       " 'mercantile',\n",
       " 'hug',\n",
       " 'manual',\n",
       " 'crib',\n",
       " 'ingenious',\n",
       " 'seismic',\n",
       " 'eldest',\n",
       " 'kinesic',\n",
       " 'clever',\n",
       " 'barn',\n",
       " 'frivolous',\n",
       " 'haiku',\n",
       " 'aviary',\n",
       " 'delta',\n",
       " 'smart',\n",
       " 'bell',\n",
       " 'squad',\n",
       " 'pliable',\n",
       " 'protactinium',\n",
       " 'brevet',\n",
       " 'adore',\n",
       " 'chlorine',\n",
       " 'guildhall',\n",
       " 'dank',\n",
       " 'waveform',\n",
       " 'pancreatic',\n",
       " 'millionth',\n",
       " 'butternut',\n",
       " 'jest',\n",
       " 'coca',\n",
       " 'fob',\n",
       " 'denizen',\n",
       " 'rill',\n",
       " 'ascent',\n",
       " 'sought',\n",
       " 'basket',\n",
       " 'specimen',\n",
       " 'spectrum',\n",
       " 'bellman',\n",
       " 'deprecatory',\n",
       " 'numerology',\n",
       " 'guano',\n",
       " 'buckthorn',\n",
       " 'eloquent',\n",
       " 'marsupial',\n",
       " 'indecision',\n",
       " 'amniotic',\n",
       " 'cockeye',\n",
       " 'exhibitor',\n",
       " 'quarry',\n",
       " 'decontrol',\n",
       " 'on',\n",
       " 'hilly',\n",
       " 'inseminate',\n",
       " 'wellbeing',\n",
       " 'leeward',\n",
       " 'homemade',\n",
       " 'purse',\n",
       " 'immovable',\n",
       " 'cloddish',\n",
       " 'barrette',\n",
       " 'robbery',\n",
       " 'algebraic',\n",
       " 'sequent',\n",
       " 'shitepoke',\n",
       " 'creep',\n",
       " 'ruination',\n",
       " 'ceramium',\n",
       " 'tangy',\n",
       " 'citadel',\n",
       " 'arenaceous',\n",
       " 'entropy',\n",
       " 'omnipresent',\n",
       " 'hole',\n",
       " 'ergative',\n",
       " 'nanosecond',\n",
       " 'visa',\n",
       " 'septillion',\n",
       " 'zesty',\n",
       " 'contraband',\n",
       " 'beard',\n",
       " 'bluster',\n",
       " 'ohmmeter',\n",
       " 'crestfallen',\n",
       " 'tautology',\n",
       " 'bedevil',\n",
       " 'vigil',\n",
       " 'extensible',\n",
       " 'tributary',\n",
       " 'revved',\n",
       " 'chickpea',\n",
       " 'sidelight',\n",
       " 'divestiture',\n",
       " 'recusant',\n",
       " 'insomniac',\n",
       " 'blouse',\n",
       " 'animist',\n",
       " 'feasible',\n",
       " 'orbit',\n",
       " 'repel',\n",
       " 'calumniate',\n",
       " 'maharaja',\n",
       " 'dumb',\n",
       " 'canker',\n",
       " 'ashore',\n",
       " 'whistleable',\n",
       " 'brunch',\n",
       " 'grief',\n",
       " 'bent',\n",
       " 'museum',\n",
       " 'consular',\n",
       " 'optometrist',\n",
       " 'smart',\n",
       " 'dang',\n",
       " 'fantasia',\n",
       " 'sodium',\n",
       " 'harmful',\n",
       " 'shipyard',\n",
       " 'nightmarish',\n",
       " 'slope',\n",
       " 'parenthesis',\n",
       " 'scripture',\n",
       " 'punk',\n",
       " 'svelte',\n",
       " 'terror',\n",
       " 'cryptanalysis',\n",
       " 'personnel',\n",
       " 'handpicked',\n",
       " 'osseous',\n",
       " 'amnesiac',\n",
       " 'theologian',\n",
       " 'cattail',\n",
       " 'pot',\n",
       " 'hornet',\n",
       " 'pie',\n",
       " 'porosity',\n",
       " 'obduracy',\n",
       " 'reprieve',\n",
       " 'coproduct',\n",
       " 'cameraman',\n",
       " 'batt',\n",
       " 'infantryman',\n",
       " 'inextricable',\n",
       " 'lac',\n",
       " 'integrate',\n",
       " 'fungoid',\n",
       " 'turbojet',\n",
       " 'simplify',\n",
       " 'sledge',\n",
       " 'procrustean',\n",
       " 'camelback',\n",
       " 'sanatorium',\n",
       " 'protege',\n",
       " 'compression',\n",
       " 'complacent',\n",
       " 'butternut',\n",
       " 'participle',\n",
       " 'lass',\n",
       " 'inferno',\n",
       " 'bungalow',\n",
       " 'basketry',\n",
       " 'vigorous',\n",
       " 'welfare',\n",
       " 'expletive',\n",
       " 'adorn',\n",
       " 'aseptic',\n",
       " 'spoonful',\n",
       " 'sunlight',\n",
       " 'receive',\n",
       " 'transmittal',\n",
       " 'cocktail',\n",
       " 'tad',\n",
       " 'panicking',\n",
       " 'grimy',\n",
       " 'tallyho',\n",
       " 'lipid',\n",
       " 'bloodstream',\n",
       " 'acrophobic',\n",
       " 'nab',\n",
       " 'manumitted',\n",
       " 'languish',\n",
       " 'graphite',\n",
       " 'chin',\n",
       " 'bloodhound',\n",
       " 'cadent',\n",
       " 'basis',\n",
       " 'ameliorate',\n",
       " 'sand',\n",
       " 'exact',\n",
       " 'fond',\n",
       " 'electrician',\n",
       " 'immature',\n",
       " 'pastry',\n",
       " 'cradle',\n",
       " 'datum',\n",
       " 'fermentation',\n",
       " 'resilient',\n",
       " 'steward',\n",
       " 'oft',\n",
       " 'phosphorous',\n",
       " 'rubble',\n",
       " 'accountant',\n",
       " 'entry',\n",
       " 'whisk',\n",
       " 'birth',\n",
       " 'passion',\n",
       " 'shareholder',\n",
       " 'bedazzle',\n",
       " 'alumnae',\n",
       " 'disposal',\n",
       " 'tower',\n",
       " 'exterior',\n",
       " 'emperor',\n",
       " 'sweetish',\n",
       " 'crossword',\n",
       " 'legitimacy',\n",
       " 'vale',\n",
       " 'thrive',\n",
       " 'crackle',\n",
       " 'homologue',\n",
       " 'diagnostic',\n",
       " 'suppressible',\n",
       " 'swimsuit',\n",
       " 'somal',\n",
       " 'linen',\n",
       " 'matroid',\n",
       " 'ignition',\n",
       " 'wert',\n",
       " 'transgressor',\n",
       " 'awaken',\n",
       " 'inchworm',\n",
       " 'love',\n",
       " 'ruminate',\n",
       " 'swampy',\n",
       " 'herringbone',\n",
       " 'material',\n",
       " 'southwest',\n",
       " 'siltstone',\n",
       " 'canon',\n",
       " 'abc',\n",
       " 'quip',\n",
       " 'patrolman',\n",
       " 'girth',\n",
       " 'clownish',\n",
       " 'mimetic',\n",
       " 'clientele',\n",
       " 'ecumenist',\n",
       " 'diety',\n",
       " 'chromium',\n",
       " 'volcanism',\n",
       " 'puzzle',\n",
       " 'stupefy',\n",
       " 'plasmid',\n",
       " 'sextillion',\n",
       " 'featherweight',\n",
       " 'askew',\n",
       " 'bookie',\n",
       " 'hardwood',\n",
       " 'legume',\n",
       " 'moreover',\n",
       " 'syllabic',\n",
       " 'committable',\n",
       " 'heptane',\n",
       " 'agent',\n",
       " 'flotilla',\n",
       " 'burgher',\n",
       " 'caveman',\n",
       " 'encephalitis',\n",
       " 'thereat',\n",
       " 'basilar',\n",
       " 'lofty',\n",
       " 'penitentiary',\n",
       " 'mark',\n",
       " 'edematous',\n",
       " 'lanky',\n",
       " 'curdle',\n",
       " 'humorous',\n",
       " 'clockwork',\n",
       " 'prevention',\n",
       " 'benediction',\n",
       " 'ample',\n",
       " 'phenotype',\n",
       " 'chatty',\n",
       " 'knot',\n",
       " 'citation',\n",
       " 'persecute',\n",
       " 'fantasy',\n",
       " 'poplar',\n",
       " 'medium',\n",
       " 'inconvenient',\n",
       " 'graphic',\n",
       " 'knead',\n",
       " 'voltage',\n",
       " 'octave',\n",
       " 'simplicial',\n",
       " 'darken',\n",
       " 'shield',\n",
       " 'islet',\n",
       " 'decontrol',\n",
       " 'blank',\n",
       " 'hamper',\n",
       " 'twisty',\n",
       " 'wapiti',\n",
       " 'briefcase',\n",
       " 'effluent',\n",
       " 'businessman',\n",
       " 'cliche',\n",
       " 'genus',\n",
       " 'telescopic',\n",
       " 'tinkle',\n",
       " 'verdant',\n",
       " 'bewhisker',\n",
       " 'brother',\n",
       " 'sprung',\n",
       " 'bullet',\n",
       " 'acidulate',\n",
       " 'monopoly',\n",
       " 'shrapnel',\n",
       " 'thunderstorm',\n",
       " 'shish',\n",
       " 'couldn',\n",
       " 'splat',\n",
       " 'certain',\n",
       " 'schist',\n",
       " 'sinewy',\n",
       " 'cluster',\n",
       " 'origami',\n",
       " 'volition',\n",
       " 'cremate',\n",
       " 'constituent',\n",
       " 'counterrevolutionary',\n",
       " 'flank',\n",
       " 'imprison',\n",
       " 'gymnosperm',\n",
       " 'spectacular',\n",
       " 'vase',\n",
       " 'niobium',\n",
       " 'guillemot',\n",
       " 'bloodline',\n",
       " 'bursitis',\n",
       " 'vicious',\n",
       " 'inattention',\n",
       " 'aperiodic',\n",
       " 'permanent',\n",
       " 'echidna',\n",
       " 'doorman',\n",
       " 'dish',\n",
       " 'built',\n",
       " 'dirge',\n",
       " 'nut',\n",
       " 'asocial',\n",
       " 'bribery',\n",
       " 'crewel',\n",
       " 'quaint',\n",
       " 'pounce',\n",
       " 'quartz',\n",
       " 'remonstrate',\n",
       " 'scar',\n",
       " 'bey',\n",
       " 'plasmon',\n",
       " 'soil',\n",
       " 'accentuate',\n",
       " 'apache',\n",
       " 'brushwork',\n",
       " 'hit',\n",
       " 'heredity',\n",
       " 'bedim',\n",
       " 'micrography',\n",
       " 'eighteen',\n",
       " 'incomprehension',\n",
       " 'expansible',\n",
       " 'alligator',\n",
       " 'oxcart',\n",
       " 'proteolysis',\n",
       " 'hail',\n",
       " 'commentary',\n",
       " 'latex',\n",
       " 'glob',\n",
       " 'ineducable',\n",
       " 'concert',\n",
       " 'strait',\n",
       " 'cadaver',\n",
       " 'resistible',\n",
       " 'bobble',\n",
       " 'precious',\n",
       " 'crewcut',\n",
       " 'appetite',\n",
       " 'collateral',\n",
       " 'glottal',\n",
       " 'boar',\n",
       " 'fold',\n",
       " 'coltsfoot',\n",
       " 'congresswoman',\n",
       " 'morel',\n",
       " 'prosecute',\n",
       " 'furniture',\n",
       " 'mash',\n",
       " 'template',\n",
       " 'configure',\n",
       " 'wither',\n",
       " 'kidnapping',\n",
       " 'portrayal',\n",
       " 'reave',\n",
       " 'choryza',\n",
       " 'conference',\n",
       " 'theorist',\n",
       " 'jaundice',\n",
       " 'punch',\n",
       " 'petite',\n",
       " 'oligopoly',\n",
       " 'modesty',\n",
       " 'brothel',\n",
       " 'ladle',\n",
       " 'bubonic',\n",
       " 'xylene',\n",
       " 'allay',\n",
       " 'inversion',\n",
       " 'domineer',\n",
       " 'told',\n",
       " 'bumpy',\n",
       " 'actinometer']"
      ]
     },
     "execution_count": 46,
     "metadata": {},
     "output_type": "execute_result"
    }
   ],
   "source": [
    "# Find all the words with three consecutive consonants\n",
    "m = re.findall('\\s(\\w*[b-df-hj-np-tv-z]\\w*)', data)\n",
    "m"
   ]
  },
  {
   "cell_type": "code",
   "execution_count": 29,
   "metadata": {
    "button": false,
    "collapsed": false,
    "deletable": true,
    "new_sheet": false,
    "run_control": {
     "read_only": false
    },
    "scrolled": true
   },
   "outputs": [],
   "source": [
    "# Find all the words that begin and end with a vowel\n",
    "m = re.findall('\\s+([aeiou]\\w*[aeiou]\\s+)', data)\n",
    "m"
   ]
  },
  {
   "cell_type": "code",
   "execution_count": 48,
   "metadata": {
    "button": false,
    "collapsed": false,
    "deletable": true,
    "new_sheet": false,
    "run_control": {
     "read_only": false
    }
   },
   "outputs": [
    {
     "data": {
      "text/plain": [
       "['disciplinary onset',\n",
       " 'shrub oregano',\n",
       " 'squeegee impetuous',\n",
       " 'hub infra',\n",
       " 'butterfat electroencephalogram',\n",
       " 'rangeland axiology',\n",
       " 'six escrow',\n",
       " 'tout alkaline',\n",
       " 'fair onward',\n",
       " 'guignol echinoderm',\n",
       " 'hypotonic autocracy',\n",
       " 'guy exogamous',\n",
       " 'crib ingenious',\n",
       " 'seismic eldest',\n",
       " 'haiku aviary',\n",
       " 'brevet adore',\n",
       " 'rill ascent',\n",
       " 'buckthorn eloquent',\n",
       " 'marsupial indecision',\n",
       " 'cockeye exhibitor',\n",
       " 'decontrol on',\n",
       " 'hilly inseminate',\n",
       " 'purse immovable',\n",
       " 'robbery algebraic',\n",
       " 'citadel arenaceous',\n",
       " 'hole ergative',\n",
       " 'bluster ohmmeter',\n",
       " 'vigil extensible',\n",
       " 'recusant insomniac',\n",
       " 'blouse animist',\n",
       " 'feasible orbit',\n",
       " 'canker ashore',\n",
       " 'consular optometrist',\n",
       " 'handpicked osseous',\n",
       " 'porosity obduracy',\n",
       " 'batt infantryman',\n",
       " 'lac integrate',\n",
       " 'lass inferno',\n",
       " 'welfare expletive',\n",
       " 'bloodstream acrophobic',\n",
       " 'basis ameliorate',\n",
       " 'sand exact',\n",
       " 'fond electrician',\n",
       " 'steward oft',\n",
       " 'rubble accountant',\n",
       " 'bedazzle alumnae',\n",
       " 'tower exterior',\n",
       " 'matroid ignition',\n",
       " 'transgressor awaken',\n",
       " 'canon abc',\n",
       " 'clientele ecumenist',\n",
       " 'featherweight askew',\n",
       " 'heptane agent',\n",
       " 'caveman encephalitis',\n",
       " 'mark edematous',\n",
       " 'benediction ample',\n",
       " 'medium inconvenient',\n",
       " 'voltage octave',\n",
       " 'shield islet',\n",
       " 'briefcase effluent',\n",
       " 'bullet acidulate',\n",
       " 'cluster origami',\n",
       " 'flank imprison',\n",
       " 'vicious inattention',\n",
       " 'permanent echidna',\n",
       " 'nut asocial',\n",
       " 'soil accentuate',\n",
       " 'micrography eighteen',\n",
       " 'glob ineducable',\n",
       " 'crewcut appetite',\n",
       " 'petite oligopoly',\n",
       " 'xylene allay',\n",
       " 'bumpy actinometer']"
      ]
     },
     "execution_count": 48,
     "metadata": {},
     "output_type": "execute_result"
    }
   ],
   "source": [
    "# Find two words such that the first begins with a consonant and the second begins with a vowel\n",
    "m = re.findall('\\s+([b-df-hj-np-tv-z]\\w*\\s+[aeiou]\\w*)', data)\n",
    "m"
   ]
  },
  {
   "cell_type": "code",
   "execution_count": null,
   "metadata": {
    "button": false,
    "collapsed": true,
    "deletable": true,
    "new_sheet": false,
    "run_control": {
     "read_only": false
    }
   },
   "outputs": [],
   "source": []
  }
 ],
 "metadata": {
  "anaconda-cloud": {},
  "kernelspec": {
   "display_name": "Python [default]",
   "language": "python",
   "name": "python2"
  },
  "language_info": {
   "codemirror_mode": {
    "name": "ipython",
    "version": 2
   },
   "file_extension": ".py",
   "mimetype": "text/x-python",
   "name": "python",
   "nbconvert_exporter": "python",
   "pygments_lexer": "ipython2",
   "version": "2.7.12"
  }
 },
 "nbformat": 4,
 "nbformat_minor": 0
}
